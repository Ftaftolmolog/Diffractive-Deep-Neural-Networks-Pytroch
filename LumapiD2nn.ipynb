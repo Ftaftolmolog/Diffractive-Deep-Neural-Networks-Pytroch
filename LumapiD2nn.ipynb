{
 "cells": [
  {
   "cell_type": "code",
   "execution_count": 3,
   "metadata": {},
   "outputs": [
    {
     "name": "stdout",
     "output_type": "stream",
     "text": [
      "Python version: 3.7.6 (tags/v3.7.6:43364a7ae0, Dec 19 2019, 00:42:30) [MSC v.1916 64 bit (AMD64)]\n"
     ]
    }
   ],
   "source": [
    "import numpy as np\n",
    "import os, time, sys\n",
    "import time\n",
    "import importlib as imp\n",
    "import matplotlib.pyplot as plt\n",
    "print(\"Python version: \" + sys.version)\n",
    "lumapi = imp.machinery.SourceFileLoader(\"lumepi\",\"D:\\\\Program Files\\\\Lumerical\\\\v202\\\\api\\\\python\\\\lumapi.py\").load_module()"
   ]
  },
  {
   "cell_type": "code",
   "execution_count": 4,
   "metadata": {},
   "outputs": [],
   "source": [
    "hight_map = np.load('./height_map.npy')\n",
    "# hight_map"
   ]
  },
  {
   "cell_type": "markdown",
   "metadata": {},
   "source": [
    "##### Helper function\n",
    "```ruby\n",
    "dir(fdtd)    \n",
    "help(fdtd.getname)   \n",
    "fdtd = lumapi.FDTD(filename = \"D2NN_simulation.fsp\")    \n",
    "fdtd.close() \n",
    "```\n"
   ]
  },
  {
   "cell_type": "code",
   "execution_count": 5,
   "metadata": {},
   "outputs": [],
   "source": [
    "num_layer = 5          # number of the layers\n",
    "size = 5              # size of the network\n",
    "\n",
    "x_span = 400e-6        # pixel size: 400 um (400e-6*200 = 0.08)\n",
    "y_span = 400e-6\n",
    "z = 3e-2               # distance of propagation(the distance bewteen two layers)\n",
    "\n",
    "material = \"<Object Defined Dielectric>\"\n",
    "\n",
    "\n",
    "fdtd = lumapi.FDTD(hide = False)   # hide the GUI of the software\n",
    "\n",
    "\n",
    "def override_layer_mesh(layer_name, layer_z_position):\n",
    "    fdtd.groupscope(\"::model\")\n",
    "    fdtd.addmesh()\n",
    "    fdtd.set(\"name\",layer_name + \"mesh\")\n",
    "    # set dimension\n",
    "    fdtd.set(\"x\",size*x_span/2)\n",
    "    fdtd.set('x span',size*x_span)      \n",
    "    fdtd.set(\"y\",-1*size*y_span/2)    \n",
    "    fdtd.set(\"y span\",size*x_span)\n",
    "    fdtd.set(\"z\",layer_z_position)\n",
    "    fdtd.set(\"z span\",1.2e-5)                         # 这个值是height_map里面最厚的那个值                            \n",
    "    # enable in X,Y,Z direction\n",
    "    # 1:enable, 0:disable\n",
    "    fdtd.set(\"override x mesh\",0)\n",
    "    fdtd.set(\"override y mesh\",0)\n",
    "    fdtd.set(\"override z mesh\",0)\n",
    "    # restrict mesh by defining maximum step size\n",
    "    fdtd.set(\"set maximum mesh step\",1)\n",
    "    fdtd.set(\"dx\",100e-6)\n",
    "    fdtd.set(\"dy\",100e-6)\n",
    "    fdtd.set(\"dz\",100e-6)\n",
    "    return None\n",
    "\n",
    "# add diffraction layers\n",
    "for l in range(0,num_layer):                                # l is the layer number\n",
    "    fdtd.addstructuregroup()\n",
    "    groupname = \"diffraction_layer_\"+ str(l)                # one group represents one layer\n",
    "    fdtd.set(\"name\",groupname)\n",
    "    \n",
    "    fdtd.groupscope(groupname)\n",
    "    layer_z_position = 0 + l*z\n",
    "    for j in range(0,size):                                 # i:x-axis, j: y-axis\n",
    "        for i in range(0,size):\n",
    "            fdtd.addrect()                                  # create and select the rect\n",
    "            fdtd.set(\"name\",\"rect\"+str(i)+\"_\"+str(j))       # set the name of the little rect\n",
    "            fdtd.set(\"x\",x_span/2 + i*x_span)               # set the x center position of the rect\n",
    "            fdtd.set(\"x span\",x_span)\n",
    "            fdtd.set(\"y\",-y_span/2 - j*y_span)              # set the y center position of the rect\n",
    "            fdtd.set(\"y span\",y_span)  \n",
    "            fdtd.set(\"z\",0 + layer_z_position)              # set the z center position of the rect\n",
    "            fdtd.set(\"z span\",hight_map[l][j][i])\n",
    "            fdtd.set(\"material\",material)\n",
    "            # fdtd.addtogroup(groupname)\n",
    "    fdtd.groupscope(\"::model\")    # after create one layer, change the group scope back to the model\n",
    "    override_layer_mesh(layer_name = groupname, layer_z_position = layer_z_position)\n",
    "    \n",
    "# add a simulation region\n",
    "fdtd.groupscope(\"::model\")\n",
    "fdtd.addfdtd()               \n",
    "fdtd.set('dimension',2)   # 1 = 2D, 2 = 3D, set a 3D simulation region\n",
    "fdtd.set(\"x\",size*x_span/2)\n",
    "fdtd.set('x span',size*x_span)      # set the x span of the simulation region\n",
    "fdtd.set(\"y\",-1*size*y_span/2)        # we are using the negative part of the y-axis\n",
    "fdtd.set(\"y span\",size*x_span)\n",
    "fdtd.set(\"z\",5*z/2)\n",
    "fdtd.set(\"z span\",5*z)\n",
    "\n",
    "# add monitor\n",
    "fdtd.addpower()\n",
    "fdtd.set('name','detector_plane_monitor')\n",
    "fdtd.set(\"x\",size*x_span/2)\n",
    "fdtd.set('x span',size*x_span)      \n",
    "fdtd.set(\"y\",-1*size*y_span/2)    \n",
    "fdtd.set(\"y span\",size*x_span)\n",
    "fdtd.set(\"z\",5*z/2)\n",
    "\n",
    "\n",
    "fdtd.save(\"D2NN_Simulation.fsp\")\n",
    "\n",
    "# run simulation\n",
    "# fdtd.run()"
   ]
  },
  {
   "cell_type": "code",
   "execution_count": 5,
   "metadata": {},
   "outputs": [],
   "source": [
    "# get result and plot\n",
    "T = fdtd.getresult('monitor','time signal')\n",
    "S = fdtd.getresult('monitor','spectrum')"
   ]
  },
  {
   "cell_type": "code",
   "execution_count": 12,
   "metadata": {},
   "outputs": [],
   "source": [
    "fdtd.visualize(T) # 在软件里可视化"
   ]
  },
  {
   "cell_type": "code",
   "execution_count": 12,
   "metadata": {},
   "outputs": [],
   "source": [
    "# print(type(S))\n",
    "# print(S)\n",
    "# plt.plot(S['lambda'])\n",
    "# T['time']"
   ]
  },
  {
   "cell_type": "code",
   "execution_count": null,
   "metadata": {},
   "outputs": [],
   "source": []
  }
 ],
 "metadata": {
  "kernelspec": {
   "display_name": "Python 3",
   "language": "python",
   "name": "python3"
  },
  "language_info": {
   "codemirror_mode": {
    "name": "ipython",
    "version": 3
   },
   "file_extension": ".py",
   "mimetype": "text/x-python",
   "name": "python",
   "nbconvert_exporter": "python",
   "pygments_lexer": "ipython3",
   "version": "3.7.6"
  }
 },
 "nbformat": 4,
 "nbformat_minor": 4
}

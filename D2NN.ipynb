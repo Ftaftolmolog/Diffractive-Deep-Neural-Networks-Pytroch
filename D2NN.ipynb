{
 "cells": [
  {
   "cell_type": "code",
   "execution_count": 22,
   "metadata": {},
   "outputs": [
    {
     "name": "stdout",
     "output_type": "stream",
     "text": [
      "2.8.0\n"
     ]
    }
   ],
   "source": [
    "import tensorflow as tf\n",
    "import numpy as np\n",
    "\n",
    "from PIL import Image\n",
    "from IPython.display import display\n",
    "import matplotlib.pyplot as plt\n",
    "from scipy.misc import  imresize\n",
    "\n",
    "from tensorflow import keras\n",
    "from keras.datasets import fashion_mnist\n",
    "\n",
    "from tensorflow.keras.models import Model\n",
    "from tensorflow.keras.losses import Loss\n",
    "from tensorflow.keras.layers import Layer,Lambda,InputLayer\n",
    "from tensorflow.keras.layers import Resizing, Rescaling\n",
    "from tensorflow.keras.utils import to_categorical\n",
    "from tensorflow.keras.utils import plot_model\n",
    "\n",
    "import cvnn.layers as complex_layers\n",
    "\n",
    "import warnings\n",
    "warnings.filterwarnings('ignore')\n",
    "\n",
    "print(tf.__version__)\n",
    "# print(\"Num GPUs Available: \", len(tf.config.experimental.list_physical_devices('GPU')))"
   ]
  },
  {
   "cell_type": "code",
   "execution_count": null,
   "metadata": {},
   "outputs": [],
   "source": [
    "# python == 3.7\n",
    "# tenorflow == 2.8.0\n",
    "# scipy==1.1.0"
   ]
  },
  {
   "cell_type": "markdown",
   "metadata": {},
   "source": [
    "### 1.Define phase object ( Preprocess the images with up-sampling )\n",
    "1. Load image that serves as phase object  \n",
    "2. Phase Image = exp(2$\\pi$ i * Padded Image)\n",
    "3. Image is 28x28 pixels, and is padded to 200x200 pixels  with 0's  \n",
    "\n",
    "The digital image is encoded in phasor form, with an uniform amplitude and different phase angle.\n"
   ]
  },
  {
   "cell_type": "code",
   "execution_count": 31,
   "metadata": {},
   "outputs": [],
   "source": [
    "def preprocess(image,target_size = 200):\n",
    "    \n",
    "    original_size = 28\n",
    "    target_size = target_size\n",
    "    up_sampling_size = 84\n",
    "    \n",
    "    up_sampling_image = imresize(image.reshape(28,28),(up_sampling_size,up_sampling_size),interp=\"nearest\")\n",
    "    phase_image = np.exp(1j*2.0*np.pi*up_sampling_image)   # convert to phase image\n",
    "    phase_image_padded = np.pad(phase_image,   # pad the phase image with 0's\n",
    "                                int((target_size-up_sampling_size)/2),\n",
    "                                mode='constant',constant_values=0)\n",
    "    return phase_image_padded         "
   ]
  },
  {
   "cell_type": "code",
   "execution_count": 32,
   "metadata": {},
   "outputs": [],
   "source": [
    "size = 200              # size of the resultant image\n",
    "num_train = 8\n",
    "num_test = 2\n",
    "\n",
    "(train_images, train_labels), (test_images, test_labels) = fashion_mnist.load_data()\n",
    "\n",
    "train_images, train_labels = train_images[0:num_train], train_labels[0:num_train]\n",
    "\n",
    "test_images, test_labels = test_images[0:num_test], test_labels[0:num_test]\n",
    "\n",
    "train_labels, test_labels = to_categorical(train_labels, 10), to_categorical(test_labels,10)\n",
    "\n",
    "temp_train = [] \n",
    "for i in range(len(train_images)):\n",
    "    temp_train.append(preprocess(train_images[i],size))\n",
    "train_images = temp_train\n",
    "\n",
    "temp_test = [] \n",
    "for i in range(len(test_images)):\n",
    "    temp_test.append(preprocess(test_images[i],size))\n",
    "test_images = temp_test\n",
    "\n",
    "train_images, test_images = tf.cast(train_images,dtype=tf.complex64), tf.cast(test_images,dtype=tf.complex64)\n",
    "# print(train_images)"
   ]
  },
  {
   "cell_type": "code",
   "execution_count": 33,
   "metadata": {},
   "outputs": [
    {
     "data": {
      "image/png": "[encoded data removed]",
      "text/plain": [
       "<Figure size 1512x576 with 5 Axes>"
      ]
     },
     "metadata": {
      "needs_background": "light"
     },
     "output_type": "display_data"
    },
    {
     "data": {
      "image/png": "[encoded data removed]",
      "text/plain": [
       "<Figure size 1512x576 with 5 Axes>"
      ]
     },
     "metadata": {
      "needs_background": "light"
     },
     "output_type": "display_data"
    }
   ],
   "source": [
    "# plot the amplitude of the phase images\n",
    "rows, cols = 1 ,5\n",
    "fig = plt.figure(figsize=(21,8))\n",
    "for i in range(5):\n",
    "    fig.add_subplot(rows,cols,i+1)\n",
    "    plt.imshow(np.abs(train_images[i]))   \n",
    "\n",
    "# # plot the phase(angle) of the phase images\n",
    "rows, cols = 1 ,5\n",
    "fig = plt.figure(figsize=(21,8))\n",
    "for i in range(5):\n",
    "    fig.add_subplot(rows,cols,i+1)\n",
    "    plt.imshow(np.angle(train_images[i]),cmap='RdBu')"
   ]
  },
  {
   "cell_type": "markdown",
   "metadata": {},
   "source": [
    "### 2.Build the Diffraction layer using Angular Spectrum method\n",
    "\n",
    "### Angular Spectrum Propagation\n",
    "$$U_1(x,y) =\\mathcal{F}^{-1}[\\mathcal{F} U_0(x,y)\\mathcal{F}h(x,y)]$$\n",
    "\n",
    "$$U_1(x,y) =\\mathcal{F}^{-1}[\\mathcal{F} U_0(x,y) H(f_x,f_y)]$$\n",
    "\n",
    "\n",
    "This can be described using Fourier transforms.The first Fourier transform decomposes the initial field into plane waves. To propagate the plane waves, we multiply each wave by a complex phase factor, and then we take the inverse Fourier transform to add all the propagated plane waves back together.\n",
    "\n",
    "To implement Angular spectrum propagation, the Fouier transform of the initial field is first multiplied with the phase factor $$H=e^{ik_zz}$$, where $k_z$is a function of the spatial frequencies $$k_z=\\sqrt{k^2-k_x^2-k_y}$$where $$  k = \\frac{2\\pi}{\\lambda}$$ and $k_x$ and $k_y$ are related to the spatial frequencies $f_x$ and $f_y$ by a factor of $2\\pi$ $$k_{x,y} = 2\\pi f_{x,y}$$\n",
    "\n",
    "Hence the complex exponential can be written in terms of the Fourier coordinates $f_x$ and $f_y$, that is \n",
    "\n",
    "$$H=e^{ik_zz},k_z = 2\\pi \\sqrt{\\frac{1}{\\lambda}-f_x-f_y}$$\n",
    "\n",
    "Descretized spatial freqnency $f_x = k*\\Delta f = \\frac{k}{N \\Delta x}$  \n",
    "Interval between the spatial frequencies $\\Delta f = \\frac{1}{N \\Delta x}=\\frac{1}{L}$,where $L$ denotes the field of view in object space"
   ]
  },
  {
   "cell_type": "code",
   "execution_count": 34,
   "metadata": {},
   "outputs": [],
   "source": [
    "class Diffraction_Layer(Layer):\n",
    "    def __init__(self, units =200):\n",
    "        '''Initialize the diffraction layer attributes'''\n",
    "        super(Diffraction_Layer, self).__init__()\n",
    "        self.units = units\n",
    "        \n",
    "        # Define system parameters\n",
    "        self.N = self.units                                         # field array size\n",
    "        self.L = 0.08                                               # source and observation plane side length, field of view\n",
    "        self.dx = self.L/ self.N                                    # sampling interval in space\n",
    "        self.x = np.arange(-self.L/2,self.L/2,self.dx)\n",
    "        self.fx = np.arange(-1/(2*self.dx),1/(2*self.dx),1/self.L)\n",
    "        [self.FX, self.FY] = np.meshgrid(self.fx,self.fx)\n",
    "        \n",
    "        self.lmb = 0.4e-3                                          # wavelength of the optical wave\n",
    "        self.z = 0.03                                              # distance of propagation(the distance bewteen two layers)\n",
    "        self.k = 2.0*np.pi/self.lmb                                # wave number\n",
    "        \n",
    "\n",
    "    def build(self, input_shape):\n",
    "        '''Create the state of the layer (weights)'''\n",
    "\n",
    "        phase_init = tf.random_normal_initializer()\n",
    "        self.phase = tf.Variable(name= \"phase\",\n",
    "            initial_value=phase_init(shape=(self.units,self.units), dtype='float32'),\n",
    "            trainable=True)\n",
    "        \n",
    "    @tf.function\n",
    "    def call(self, inputs):\n",
    "        '''Define the computation'''\n",
    "        def angular_spectrum_propagator(u0, z=self.z,k=self.k,FX= self.FX, FY= self.FY):\n",
    "            kz = np.sqrt(k**2-np.square(2*np.pi*FX)-np.square(2*np.pi*FY))\n",
    "            H = np.exp(1j*z*kz)\n",
    "            H = tf.cast(H,dtype=tf.complex64)\n",
    "            u1 = tf.signal.ifft2d(tf.signal.fft2d(u0)*tf.signal.fftshift(H))\n",
    "            return u1\n",
    "        \n",
    "        return angular_spectrum_propagator(inputs)*tf.math.exp(1j*tf.cast(self.phase,dtype=tf.complex64))"
   ]
  },
  {
   "cell_type": "code",
   "execution_count": 35,
   "metadata": {},
   "outputs": [],
   "source": [
    "class Detector(Layer):\n",
    "    def __init__(self, units=200):\n",
    "        '''Initialize the instance attributes'''\n",
    "        super(Detector, self).__init__()\n",
    "        self.units = units\n",
    "    \n",
    "    @tf.function\n",
    "    def call(self, inputs):\n",
    "        ''' Converts output to one hot form\n",
    "        Applies softmax'''\n",
    "        def rang(arr,shape,size=self.units,base = 200):\n",
    "            return arr[shape[0]*size//base:shape[1]*size//base,shape[2]*size//self.units:shape[3]*size//self.units]\n",
    "        \n",
    "        def reduce_mean(tf_):\n",
    "            return tf.reduce_mean(tf_)\n",
    "        \n",
    "        def _ten_regions(a):\n",
    "            return tf.map_fn(reduce_mean,tf.convert_to_tensor([\n",
    "                rang(a,(46,66,46,66)),\n",
    "                rang(a,(46,66,93,113)),\n",
    "                rang(a,(46,66,140,160)),\n",
    "                rang(a,(85,105,46,66)),\n",
    "                rang(a,(85,105,78,98)),\n",
    "                rang(a,(85,105,109,129)),\n",
    "                rang(a,(85,105,140,160)),\n",
    "                rang(a,(125,145,46,66)),\n",
    "                rang(a,(125,145,93,113)),\n",
    "                rang(a,(125,145,140,160))\n",
    "            ]))\n",
    "        \n",
    "        def ten_regions(logits):\n",
    "            return tf.map_fn(_ten_regions,tf.abs(logits),dtype=tf.float32)\n",
    "\n",
    "        return tf.square(tf.nn.softmax(ten_regions(tf.abs(inputs)))) # logits_abs"
   ]
  },
  {
   "cell_type": "code",
   "execution_count": 36,
   "metadata": {},
   "outputs": [],
   "source": [
    "def loss_function(y_label,logits_abs):\n",
    "    \n",
    "    return tf.reduce_sum(tf.square(logits_abs-y_label))"
   ]
  },
  {
   "cell_type": "code",
   "execution_count": 37,
   "metadata": {},
   "outputs": [
    {
     "name": "stdout",
     "output_type": "stream",
     "text": [
      "WARNING:tensorflow:AutoGraph could not transform <bound method Diffraction_Layer.call of <tensorflow.python.eager.function.TfMethodTarget object at 0x000001FA75B5C688>> and will run it as-is.\n",
      "Please report this to the TensorFlow team. When filing the bug, set the verbosity to 10 (on Linux, `export AUTOGRAPH_VERBOSITY=10`) and attach the full output.\n",
      "Cause: 'arguments' object has no attribute 'posonlyargs'\n",
      "To silence this warning, decorate the function with @tf.autograph.experimental.do_not_convert\n",
      "WARNING: AutoGraph could not transform <bound method Diffraction_Layer.call of <tensorflow.python.eager.function.TfMethodTarget object at 0x000001FA75B5C688>> and will run it as-is.\n",
      "Please report this to the TensorFlow team. When filing the bug, set the verbosity to 10 (on Linux, `export AUTOGRAPH_VERBOSITY=10`) and attach the full output.\n",
      "Cause: 'arguments' object has no attribute 'posonlyargs'\n",
      "To silence this warning, decorate the function with @tf.autograph.experimental.do_not_convert\n",
      "WARNING:tensorflow:AutoGraph could not transform <bound method Detector.call of <tensorflow.python.eager.function.TfMethodTarget object at 0x000001FA48A4E7C8>> and will run it as-is.\n",
      "Please report this to the TensorFlow team. When filing the bug, set the verbosity to 10 (on Linux, `export AUTOGRAPH_VERBOSITY=10`) and attach the full output.\n",
      "Cause: module 'gast' has no attribute 'Constant'\n",
      "To silence this warning, decorate the function with @tf.autograph.experimental.do_not_convert\n",
      "WARNING: AutoGraph could not transform <bound method Detector.call of <tensorflow.python.eager.function.TfMethodTarget object at 0x000001FA48A4E7C8>> and will run it as-is.\n",
      "Please report this to the TensorFlow team. When filing the bug, set the verbosity to 10 (on Linux, `export AUTOGRAPH_VERBOSITY=10`) and attach the full output.\n",
      "Cause: module 'gast' has no attribute 'Constant'\n",
      "To silence this warning, decorate the function with @tf.autograph.experimental.do_not_convert\n",
      "WARNING:tensorflow:AutoGraph could not transform <function Detector.call.<locals>._ten_regions at 0x000001FA012E6828> and will run it as-is.\n",
      "Please report this to the TensorFlow team. When filing the bug, set the verbosity to 10 (on Linux, `export AUTOGRAPH_VERBOSITY=10`) and attach the full output.\n",
      "Cause: 'arguments' object has no attribute 'posonlyargs'\n",
      "To silence this warning, decorate the function with @tf.autograph.experimental.do_not_convert\n",
      "WARNING: AutoGraph could not transform <function Detector.call.<locals>._ten_regions at 0x000001FA012E6828> and will run it as-is.\n",
      "Please report this to the TensorFlow team. When filing the bug, set the verbosity to 10 (on Linux, `export AUTOGRAPH_VERBOSITY=10`) and attach the full output.\n",
      "Cause: 'arguments' object has no attribute 'posonlyargs'\n",
      "To silence this warning, decorate the function with @tf.autograph.experimental.do_not_convert\n",
      "WARNING:tensorflow:AutoGraph could not transform <function Detector.call.<locals>.reduce_mean at 0x000001FA012E65E8> and will run it as-is.\n",
      "Please report this to the TensorFlow team. When filing the bug, set the verbosity to 10 (on Linux, `export AUTOGRAPH_VERBOSITY=10`) and attach the full output.\n",
      "Cause: 'arguments' object has no attribute 'posonlyargs'\n",
      "To silence this warning, decorate the function with @tf.autograph.experimental.do_not_convert\n",
      "WARNING: AutoGraph could not transform <function Detector.call.<locals>.reduce_mean at 0x000001FA012E65E8> and will run it as-is.\n",
      "Please report this to the TensorFlow team. When filing the bug, set the verbosity to 10 (on Linux, `export AUTOGRAPH_VERBOSITY=10`) and attach the full output.\n",
      "Cause: 'arguments' object has no attribute 'posonlyargs'\n",
      "To silence this warning, decorate the function with @tf.autograph.experimental.do_not_convert\n",
      "Model: \"model_1\"\n",
      "_________________________________________________________________\n",
      " Layer (type)                Output Shape              Param #   \n",
      "=================================================================\n",
      " input_2 (ComplexInput)      [(None, 200, 200)]        0         \n",
      "                                                                 \n",
      " diffraction__layer_5 (Diffr  (None, 200, 200)         40000     \n",
      " action_Layer)                                                   \n",
      "                                                                 \n",
      " diffraction__layer_6 (Diffr  (None, 200, 200)         40000     \n",
      " action_Layer)                                                   \n",
      "                                                                 \n",
      " diffraction__layer_7 (Diffr  (None, 200, 200)         40000     \n",
      " action_Layer)                                                   \n",
      "                                                                 \n",
      " diffraction__layer_8 (Diffr  (None, 200, 200)         40000     \n",
      " action_Layer)                                                   \n",
      "                                                                 \n",
      " diffraction__layer_9 (Diffr  (None, 200, 200)         40000     \n",
      " action_Layer)                                                   \n",
      "                                                                 \n",
      " detector_1 (Detector)       (None, 10)                0         \n",
      "                                                                 \n",
      "=================================================================\n",
      "Total params: 200,000\n",
      "Trainable params: 200,000\n",
      "Non-trainable params: 0\n",
      "_________________________________________________________________\n"
     ]
    }
   ],
   "source": [
    "def get_D2NN_model():\n",
    "    inputs = complex_layers.complex_input(shape=(size,size))\n",
    "    h1 = Diffraction_Layer(size)(inputs)\n",
    "    h2 = Diffraction_Layer(size)(h1)\n",
    "    h3 = Diffraction_Layer(size)(h2)\n",
    "    h4 = Diffraction_Layer(size)(h3)\n",
    "    h5 = Diffraction_Layer(size)(h4)\n",
    "    out = Detector()(h5)\n",
    "    return tf.keras.Model(inputs, out)\n",
    "\n",
    "D2NN = get_D2NN_model()  \n",
    "\n",
    "D2NN.summary()\n",
    "# plot_model(D2NN, show_shapes=True, show_layer_names=True, to_file='D2NN-model.png')"
   ]
  },
  {
   "cell_type": "code",
   "execution_count": 38,
   "metadata": {},
   "outputs": [
    {
     "name": "stdout",
     "output_type": "stream",
     "text": [
      "Epoch 1/10\n",
      "WARNING:tensorflow:AutoGraph could not transform <function Model.make_train_function.<locals>.train_function at 0x000001FA012E6F78> and will run it as-is.\n",
      "Please report this to the TensorFlow team. When filing the bug, set the verbosity to 10 (on Linux, `export AUTOGRAPH_VERBOSITY=10`) and attach the full output.\n",
      "Cause: 'arguments' object has no attribute 'posonlyargs'\n",
      "To silence this warning, decorate the function with @tf.autograph.experimental.do_not_convert\n",
      "WARNING: AutoGraph could not transform <function Model.make_train_function.<locals>.train_function at 0x000001FA012E6F78> and will run it as-is.\n",
      "Please report this to the TensorFlow team. When filing the bug, set the verbosity to 10 (on Linux, `export AUTOGRAPH_VERBOSITY=10`) and attach the full output.\n",
      "Cause: 'arguments' object has no attribute 'posonlyargs'\n",
      "To silence this warning, decorate the function with @tf.autograph.experimental.do_not_convert\n",
      "WARNING:tensorflow:AutoGraph could not transform <function loss_function at 0x000001FA05AD3948> and will run it as-is.\n",
      "Please report this to the TensorFlow team. When filing the bug, set the verbosity to 10 (on Linux, `export AUTOGRAPH_VERBOSITY=10`) and attach the full output.\n",
      "Cause: 'arguments' object has no attribute 'posonlyargs'\n",
      "To silence this warning, decorate the function with @tf.autograph.experimental.do_not_convert\n",
      "WARNING: AutoGraph could not transform <function loss_function at 0x000001FA05AD3948> and will run it as-is.\n",
      "Please report this to the TensorFlow team. When filing the bug, set the verbosity to 10 (on Linux, `export AUTOGRAPH_VERBOSITY=10`) and attach the full output.\n",
      "Cause: 'arguments' object has no attribute 'posonlyargs'\n",
      "To silence this warning, decorate the function with @tf.autograph.experimental.do_not_convert\n",
      "1/1 [==============================] - ETA: 0s - loss: 7.9245 - accuracy: 0.0000e+00WARNING:tensorflow:AutoGraph could not transform <function Model.make_test_function.<locals>.test_function at 0x000001FA01299EE8> and will run it as-is.\n",
      "Please report this to the TensorFlow team. When filing the bug, set the verbosity to 10 (on Linux, `export AUTOGRAPH_VERBOSITY=10`) and attach the full output.\n",
      "Cause: 'arguments' object has no attribute 'posonlyargs'\n",
      "To silence this warning, decorate the function with @tf.autograph.experimental.do_not_convert\n",
      "WARNING: AutoGraph could not transform <function Model.make_test_function.<locals>.test_function at 0x000001FA01299EE8> and will run it as-is.\n",
      "Please report this to the TensorFlow team. When filing the bug, set the verbosity to 10 (on Linux, `export AUTOGRAPH_VERBOSITY=10`) and attach the full output.\n",
      "Cause: 'arguments' object has no attribute 'posonlyargs'\n",
      "To silence this warning, decorate the function with @tf.autograph.experimental.do_not_convert\n",
      "1/1 [==============================] - 3s 3s/step - loss: 7.9245 - accuracy: 0.0000e+00 - val_loss: 1.9837 - val_accuracy: 0.0000e+00\n",
      "Epoch 2/10\n",
      "1/1 [==============================] - 2s 2s/step - loss: 7.9241 - accuracy: 0.0000e+00 - val_loss: 1.9837 - val_accuracy: 0.0000e+00\n",
      "Epoch 3/10\n",
      "1/1 [==============================] - 2s 2s/step - loss: 7.9237 - accuracy: 0.0000e+00 - val_loss: 1.9836 - val_accuracy: 0.0000e+00\n",
      "Epoch 4/10\n",
      "1/1 [==============================] - 2s 2s/step - loss: 7.9233 - accuracy: 0.0000e+00 - val_loss: 1.9835 - val_accuracy: 0.0000e+00\n",
      "Epoch 5/10\n",
      "1/1 [==============================] - 2s 2s/step - loss: 7.9228 - accuracy: 0.0000e+00 - val_loss: 1.9834 - val_accuracy: 0.0000e+00\n",
      "Epoch 6/10\n",
      "1/1 [==============================] - 2s 2s/step - loss: 7.9224 - accuracy: 0.0000e+00 - val_loss: 1.9833 - val_accuracy: 0.0000e+00\n",
      "Epoch 7/10\n",
      "1/1 [==============================] - 2s 2s/step - loss: 7.9220 - accuracy: 0.0000e+00 - val_loss: 1.9832 - val_accuracy: 0.0000e+00\n",
      "Epoch 8/10\n",
      "1/1 [==============================] - 2s 2s/step - loss: 7.9215 - accuracy: 0.0000e+00 - val_loss: 1.9832 - val_accuracy: 0.0000e+00\n",
      "Epoch 9/10\n",
      "1/1 [==============================] - 2s 2s/step - loss: 7.9211 - accuracy: 0.0000e+00 - val_loss: 1.9831 - val_accuracy: 0.0000e+00\n",
      "Epoch 10/10\n",
      "1/1 [==============================] - 2s 2s/step - loss: 7.9206 - accuracy: 0.0000e+00 - val_loss: 1.9830 - val_accuracy: 0.0000e+00\n"
     ]
    }
   ],
   "source": [
    "# Define the traning parameters\n",
    "learning_rate = 0.01\n",
    "batch_size = 8\n",
    "epochs = 10\n",
    "\n",
    "D2NN.compile(optimizer='adam',\n",
    "             loss = loss_function,\n",
    "             metrics=['accuracy'])\n",
    "\n",
    "history = D2NN.fit(train_images, train_labels,\n",
    "                   epochs=epochs,\n",
    "                   batch_size = batch_size,\n",
    "                   validation_data=(test_images, test_labels))"
   ]
  },
  {
   "cell_type": "code",
   "execution_count": null,
   "metadata": {},
   "outputs": [],
   "source": []
  },
  {
   "cell_type": "code",
   "execution_count": null,
   "metadata": {},
   "outputs": [],
   "source": []
  }
 ],
 "metadata": {
  "kernelspec": {
   "display_name": "Python 3",
   "language": "python",
   "name": "python3"
  },
  "language_info": {
   "codemirror_mode": {
    "name": "ipython",
    "version": 3
   },
   "file_extension": ".py",
   "mimetype": "text/x-python",
   "name": "python",
   "nbconvert_exporter": "python",
   "pygments_lexer": "ipython3",
   "version": "3.7.6"
  }
 },
 "nbformat": 4,
 "nbformat_minor": 4
}

{
 "cells": [
  {
   "cell_type": "code",
   "execution_count": 1,
   "metadata": {},
   "outputs": [
    {
     "data": {
      "text/plain": [
       "<torch._C.Generator at 0x1da3e6c08f0>"
      ]
     },
     "execution_count": 1,
     "metadata": {},
     "output_type": "execute_result"
    }
   ],
   "source": [
    "import torch\n",
    "from torch.utils.data import Dataset\n",
    "from torchvision import datasets\n",
    "import torchvision.transforms as transforms\n",
    "import numpy as np\n",
    "import matplotlib.pyplot as plt\n",
    "from torch.utils.data import DataLoader\n",
    "import tqdm\n",
    "torch.manual_seed(42)"
   ]
  },
  {
   "cell_type": "code",
   "execution_count": 2,
   "metadata": {},
   "outputs": [],
   "source": [
    "def imshow(sample_element, shape = (28, 28)):\n",
    "    plt.imshow(sample_element[0].numpy().reshape(shape), cmap='gray')\n",
    "    plt.title('Label = ' + str(sample_element[1]))\n",
    "    plt.show()"
   ]
  },
  {
   "cell_type": "code",
   "execution_count": 3,
   "metadata": {},
   "outputs": [
    {
     "data": {
      "text/plain": [
       "(60000, 10000)"
      ]
     },
     "execution_count": 3,
     "metadata": {},
     "output_type": "execute_result"
    }
   ],
   "source": [
    "class Complexify(object):\n",
    "    \"\"\"\n",
    "    cast to complex numbers\n",
    "    \"\"\"\n",
    "\n",
    "    def __init__(self):\n",
    "        pass\n",
    "\n",
    "    def __call__(self, sample):\n",
    "        img = sample.type(torch.complex64)\n",
    "        img = torch.exp(2*np.pi*1j*img)\n",
    "\n",
    "        return img\n",
    "    \n",
    "size = 56\n",
    "\n",
    "train_dataset = datasets.FashionMNIST(\n",
    "    root='./fashion_mnist',\n",
    "    train=True,\n",
    "    download=False,\n",
    "    transform=transforms.Compose([\n",
    "        transforms.ToTensor(),        \n",
    "        Complexify(),\n",
    "        transforms.Pad((size-28) // 2, (size-28) // 2),\n",
    "    ])\n",
    ")\n",
    "\n",
    "test_dataset = datasets.FashionMNIST(\n",
    "    root='./fashion_mnist',\n",
    "    train=False,\n",
    "    download=False,\n",
    "    transform=transforms.Compose([\n",
    "        transforms.ToTensor(),        \n",
    "        Complexify(),\n",
    "        transforms.Pad((size-28) // 2, (size-28) // 2),\n",
    "    ]) \n",
    ")\n",
    "\n",
    "batch_size = 8\n",
    "\n",
    "train_dataloader = DataLoader(train_dataset, batch_size=batch_size, shuffle=True)\n",
    "test_dataloader = DataLoader(test_dataset, batch_size=batch_size)\n",
    "\n",
    "num_train = len(train_dataset)\n",
    "num_test = len(test_dataset)\n",
    "\n",
    "\n",
    "\n",
    "num_train, num_test"
   ]
  },
  {
   "cell_type": "code",
   "execution_count": 4,
   "metadata": {},
   "outputs": [
    {
     "data": {
      "image/png": "[encoded data removed]",
      "text/plain": [
       "<Figure size 2100x800 with 8 Axes>"
      ]
     },
     "metadata": {},
     "output_type": "display_data"
    }
   ],
   "source": [
    "rows, cols = 1 ,8\n",
    "fig = plt.figure(figsize=(21,8))\n",
    "images, labels = next(iter(test_dataloader))\n",
    "for i in range(8):\n",
    "    image, label = images[i], labels[i]\n",
    "    fig.add_subplot(rows,cols,i+1)\n",
    "    image = np.angle(image.numpy()).squeeze()\n",
    "    plt.imshow(image,cmap='RdBu')"
   ]
  },
  {
   "cell_type": "code",
   "execution_count": 5,
   "metadata": {},
   "outputs": [],
   "source": [
    "def angular_spectrum_propagator(E, Nx, dx, lam, z):\n",
    "    # compute angular spectrum\n",
    "    fft_c = torch.fft.fft2(E)\n",
    "    c = torch.fft.fftshift(fft_c)\n",
    "\n",
    "    fx = np.fft.fftshift(np.fft.fftfreq(Nx, d = dx))\n",
    "    fxx, fyy = np.meshgrid(fx, fx)\n",
    "    argument = (2 * np.pi)**2 * ((1. / lam) ** 2 - fxx ** 2 - fyy ** 2)\n",
    "\n",
    "    #Calculate the propagating and the evanescent (complex) modes\n",
    "    tmp = np.sqrt(np.abs(argument))\n",
    "    kz = torch.tensor(np.where(argument >= 0, tmp, 1j*tmp))\n",
    "\n",
    "    # propagate the angular spectrum a distance z\n",
    "    E = torch.fft.ifft2(torch.fft.ifftshift(c * torch.exp(1j * kz * z)))\n",
    "    return E\n",
    "\n",
    "\n",
    "class Diffraction_Layer(torch.nn.Module):\n",
    "    def __init__(self, units=size):\n",
    "        '''Initialize the diffraction layer attributes'''        \n",
    "        super(Diffraction_Layer, self).__init__()\n",
    "        self.units = units\n",
    "        self.Nx = units              # Nx is the dimension of the grid\n",
    "        self.dx = 100e-6\n",
    "        self.lam = 0.75e-3           # wavelength of the optical wave: 0.75 mm\n",
    "        self.z = 3e-2                # distance of propagation(the distance between two layers)\n",
    "        shape=(self.units,self.units)\n",
    "        self.phase = torch.nn.Parameter(torch.clamp(torch.empty(shape).normal_(mean = 0, std = 1), min=0, max=2*torch.pi))\n",
    "\n",
    "    def forward(self, inputs):\n",
    "        '''Define the computation'''\n",
    "        return angular_spectrum_propagator(inputs, Nx = self.Nx, dx = self.dx, lam = self.lam, z = self.z) * torch.exp(1j * self.phase.type(torch.complex64))\n",
    "\n",
    "   \n",
    "class Propagation_Layer(torch.nn.Module):\n",
    "    def __init__(self, units=size):\n",
    "        '''Initialize the diffraction layer attributes'''\n",
    "        super(Propagation_Layer, self).__init__()\n",
    "        self.units = units\n",
    "        self.Nx = units              # Nx is the dimension of the grid\n",
    "        self.dx = 100e-6\n",
    "        self.lam = 0.75e-3           # wavelength of the optical wave\n",
    "        self.z = 1e-2                # distance of propagation(the distance between last layer and the detector)\n",
    "\n",
    "    def forward(self, inputs):\n",
    "        '''Define the computation'''\n",
    "        return angular_spectrum_propagator(inputs, Nx = self.Nx, dx = self.dx, lam = self.lam, z = self.z)\n",
    "    \n",
    "class Detector(torch.nn.Module):\n",
    "    def __init__(self, units=200):\n",
    "        '''Initialize the instance attributes'''\n",
    "        super(Detector, self).__init__()\n",
    "        self.units = units\n",
    "    \n",
    "    def forward(self, inputs):\n",
    "        ''' Converts output to one hot form\n",
    "        Applies softmax'''\n",
    "        \n",
    "        def rang(arr,shape,size=size,base = 500):\n",
    "            arr = torch.abs(arr)\n",
    "            x0 = shape[0] * size // base\n",
    "            y0 = shape[2] * size // base\n",
    "            delta = (shape[1]-shape[0])* size // base\n",
    "            return arr[x0:x0+delta,y0:y0+delta]\n",
    "        \n",
    "        \n",
    "        return torch.cat([\n",
    "            torch.cat([rang(torch.squeeze(image),(120,170,120,170)).mean().reshape(1) for image in inputs]).view(1, -1),\n",
    "            torch.cat([rang(torch.squeeze(image),(120,170,240,290)).mean().reshape(1) for image in inputs]).view(1, -1),\n",
    "            torch.cat([rang(torch.squeeze(image),(120,170,360,410)).mean().reshape(1) for image in inputs]).view(1, -1),\n",
    "            torch.cat([rang(torch.squeeze(image),(220,270,120,170)).mean().reshape(1) for image in inputs]).view(1, -1),\n",
    "            torch.cat([rang(torch.squeeze(image),(220,270,200,250)).mean().reshape(1) for image in inputs]).view(1, -1),\n",
    "            torch.cat([rang(torch.squeeze(image),(220,270,280,330)).mean().reshape(1) for image in inputs]).view(1, -1),\n",
    "            torch.cat([rang(torch.squeeze(image),(220,270,360,410)).mean().reshape(1) for image in inputs]).view(1, -1),\n",
    "            torch.cat([rang(torch.squeeze(image),(320,370,120,170)).mean().reshape(1) for image in inputs]).view(1, -1),\n",
    "            torch.cat([rang(torch.squeeze(image),(320,370,240,290)).mean().reshape(1) for image in inputs]).view(1, -1),\n",
    "            torch.cat([rang(torch.squeeze(image),(320,370,360,410)).mean().reshape(1) for image in inputs]).view(1, -1),\n",
    "        ]).T ** 2"
   ]
  },
  {
   "cell_type": "code",
   "execution_count": 6,
   "metadata": {},
   "outputs": [
    {
     "data": {
      "text/plain": [
       "(tensor([[47.1218, 27.1057, 50.8809, 29.4916, 83.6472, 92.1278, 43.9614, 51.9637,\n",
       "          58.1496, 37.9700],\n",
       "         [51.7847, 27.1862, 50.4764, 30.5003, 84.7903, 88.7388, 44.7155, 51.9136,\n",
       "          59.2322, 37.7218],\n",
       "         [50.8638, 27.0734, 51.4407, 29.7722, 83.8345, 88.4033, 44.5730, 52.4137,\n",
       "          59.7814, 37.6431],\n",
       "         [49.5644, 26.4680, 48.8738, 29.7108, 85.2729, 86.6274, 45.1966, 51.3727,\n",
       "          60.8526, 35.9187],\n",
       "         [44.4875, 24.0517, 44.4253, 27.1627, 84.3535, 90.5978, 38.0342, 49.2709,\n",
       "          67.5158, 32.1209],\n",
       "         [51.3330, 28.2997, 50.6152, 30.4931, 84.9742, 89.5419, 44.2418, 52.3416,\n",
       "          62.3728, 36.2929],\n",
       "         [46.9534, 24.6018, 49.0444, 27.7022, 81.2342, 84.2735, 41.2858, 49.9192,\n",
       "          58.5493, 34.5449],\n",
       "         [45.7766, 24.8856, 46.3356, 26.9795, 83.3339, 89.3597, 39.1348, 48.2533,\n",
       "          61.2813, 32.2530]], dtype=torch.float64, grad_fn=<PowBackward0>),\n",
       " tensor([9, 2, 1, 1, 6, 1, 4, 6]))"
      ]
     },
     "execution_count": 6,
     "metadata": {},
     "output_type": "execute_result"
    }
   ],
   "source": [
    "class dnn_model(torch.nn.Module):\n",
    "    def __init__(self, units=size):\n",
    "        '''Initialize the diffraction layer attributes'''        \n",
    "        super(dnn_model, self).__init__()\n",
    "        self.units = units\n",
    "        self.Nx = units              # Nx is the dimension of the grid\n",
    "        self.dx = 100e-6\n",
    "        self.lam = 0.75e-3           # wavelength of the optical wave: 0.75 mm\n",
    "        self.z = 3e-2                # distance of propagation(the distance between two layers)\n",
    "\n",
    "        self.h_1 = Diffraction_Layer()\n",
    "        self.h_2 = Diffraction_Layer()\n",
    "        self.propagation = Propagation_Layer()\n",
    "        self.out = Detector()\n",
    "\n",
    "    def forward(self,images):\n",
    "        h1_image = self.h_1(images)\n",
    "        h2_image = self.h_2(h1_image)\n",
    "        propagated_image = self.propagation(h2_image)\n",
    "        return self.out(propagated_image)\n",
    "    \n",
    "criterion = torch.nn.CrossEntropyLoss()\n",
    "model = dnn_model()\n",
    "logits = model(images)\n",
    "logits, labels"
   ]
  },
  {
   "cell_type": "code",
   "execution_count": 238,
   "metadata": {},
   "outputs": [
    {
     "name": "stderr",
     "output_type": "stream",
     "text": [
      "Mean accuracy: 0.11810, mean BCE Loss: 3.66519: 100%|██████████| 1250/1250 [01:53<00:00, 11.06it/s]\n",
      "Mean accuracy: 0.14010, mean BCE Loss: 2.65166: 100%|██████████| 1250/1250 [01:56<00:00, 10.77it/s]\n",
      "Mean accuracy: 0.16790, mean BCE Loss: 2.40207: 100%|██████████| 1250/1250 [02:05<00:00,  9.95it/s]\n",
      "Mean accuracy: 0.19750, mean BCE Loss: 2.24511: 100%|██████████| 1250/1250 [01:54<00:00, 10.92it/s]\n",
      "Mean accuracy: 0.22510, mean BCE Loss: 2.14457: 100%|██████████| 1250/1250 [02:07<00:00,  9.79it/s]\n",
      "Mean accuracy: 0.24910, mean BCE Loss: 2.07442: 100%|██████████| 1250/1250 [01:51<00:00, 11.21it/s]\n"
     ]
    }
   ],
   "source": [
    "device = torch.device('cuda' if torch.cuda.is_available() else 'cpu')\n",
    "criterion = torch.nn.CrossEntropyLoss().to(device)\n",
    "model = dnn_model().to(device)\n",
    "optimizer = torch.optim.Adam(model.parameters(), lr=0.001, betas=(0.9, 0.999), eps=1e-08, weight_decay=0)\n",
    "\n",
    "for epoch in range(6):\n",
    "    # train\n",
    "    model.train()\n",
    "    accuracies = []\n",
    "    losses = []\n",
    "    pbar = tqdm.tqdm(test_dataloader)\n",
    "    for images, labels in pbar:\n",
    "        images, labels = images.to(device), labels.to(device)\n",
    "        logits = model(images)        \n",
    "        loss = criterion(logits, labels)\n",
    "        losses.append(loss.item())\n",
    "        accuracies.append((torch.argmax(logits, dim = 1) == labels).sum().item() / batch_size)\n",
    "        optimizer.zero_grad()\n",
    "        loss.backward()\n",
    "        optimizer.step()\n",
    "\n",
    "        pbar.set_description(f\"Mean accuracy: {torch.tensor(accuracies).mean():.5f}, mean BCE Loss: {torch.tensor(losses).mean():.5f}\")    "
   ]
  },
  {
   "cell_type": "code",
   "execution_count": 8,
   "metadata": {},
   "outputs": [
    {
     "data": {
      "text/plain": [
       "<All keys matched successfully>"
      ]
     },
     "execution_count": 8,
     "metadata": {},
     "output_type": "execute_result"
    }
   ],
   "source": [
    "model.load_state_dict(torch.load(\"weights\"))"
   ]
  },
  {
   "cell_type": "code",
   "execution_count": 10,
   "metadata": {},
   "outputs": [
    {
     "name": "stderr",
     "output_type": "stream",
     "text": [
      "  0%|          | 0/1250 [00:00<?, ?it/s]"
     ]
    },
    {
     "name": "stderr",
     "output_type": "stream",
     "text": [
      "Mean accuracy: 0.54800, mean BCE Loss: 1.29874: 100%|██████████| 1250/1250 [01:28<00:00, 14.08it/s]\n"
     ]
    }
   ],
   "source": [
    "device = torch.device('cuda' if torch.cuda.is_available() else 'cpu')\n",
    "criterion = torch.nn.CrossEntropyLoss().to(device)\n",
    "\n",
    "model.eval()\n",
    "accuracies = []\n",
    "losses = []\n",
    "pbar = tqdm.tqdm(test_dataloader)\n",
    "for images, labels in pbar:\n",
    "    images, labels = images.to(device), labels.to(device)\n",
    "    logits = model(images)        \n",
    "    loss = criterion(logits, labels)\n",
    "    losses.append(loss.item())\n",
    "    accuracies.append((torch.argmax(logits, dim = 1) == labels).sum().item() / batch_size)\n",
    "\n",
    "    pbar.set_description(f\"Mean accuracy: {torch.tensor(accuracies).mean():.5f}, mean BCE Loss: {torch.tensor(losses).mean():.5f}\")    "
   ]
  },
  {
   "attachments": {},
   "cell_type": "markdown",
   "metadata": {},
   "source": [
    "# Legacy"
   ]
  },
  {
   "cell_type": "code",
   "execution_count": null,
   "metadata": {},
   "outputs": [],
   "source": [
    "class Diffraction_Layer(torch.nn.Module):\n",
    "    def __init__(self, units=200):\n",
    "        '''Initialize the diffraction layer attributes'''\n",
    "        #super().__init__()\n",
    "        \n",
    "        super(Diffraction_Layer, self).__init__()\n",
    "        self.units = units\n",
    "        self.Nx = units              # Nx is the dimension of the grid\n",
    "        # self.L = 0.08              # source and observation plane side length, field of view\n",
    "        dx = 100e-6\n",
    "        self.lam = 0.75e-3           # wavelength of the optical wave: 0.75 mm\n",
    "        self.z = 3e-2                # distance of propagation(the distance bewteen two layers)\n",
    "        shape=(self.units,self.units)\n",
    "        self.phase = torch.nn.Parameter(torch.clamp(torch.empty(shape).normal_(mean = 0, std = 1), min=0, max=2*torch.pi))\n",
    "\n",
    "\n",
    "    def angular_spectrum_propagator(self, E):\n",
    "        # compute angular spectrum\n",
    "        fft_c = torch.fft.fft2(E)\n",
    "        c = torch.fft.fftshift(fft_c)\n",
    "\n",
    "        fx = np.fft.fftshift(np.fft.fftfreq(self.Nx, d = self.dx))\n",
    "        fxx, fyy = np.meshgrid(fx, fx)\n",
    "        argument = (2 * np.pi)**2 * ((1. / self.lam) ** 2 - fxx ** 2 - fyy ** 2)\n",
    "\n",
    "        #Calculate the propagating and the evanescent (complex) modes\n",
    "        tmp = np.sqrt(np.abs(argument))\n",
    "        kz = torch.tensor(np.where(argument >= 0, tmp, 1j*tmp))\n",
    "\n",
    "        # propagate the angular spectrum a distance z\n",
    "        E = torch.fft.ifft2(torch.fft.ifftshift(c * torch.exp(1j * kz * self.z)))\n",
    "        return E\n",
    "\n",
    "    def forward(self, inputs):\n",
    "        '''Define the computation'''\n",
    "        return self.angular_spectrum_propagator(inputs) * torch.exp(1j * self.phase.type(torch.complex64))"
   ]
  },
  {
   "cell_type": "code",
   "execution_count": null,
   "metadata": {},
   "outputs": [],
   "source": [
    "def Propagation(torch.nn.Module):\n",
    "    def __init__(self, units=200):\n",
    "        '''Initialize the diffraction layer attributes'''\n",
    "        #super().__init__()\n",
    "        \n",
    "        super(Diffraction_Layer, self).__init__()\n",
    "        self.units = units\n",
    "        self.Nx = units              # Nx is the dimension of the grid\n",
    "        # self.L = 0.08              # source and observation plane side length, field of view\n",
    "        self.dx = 100e-6\n",
    "        self.lam = 0.75e-3           # wavelength of the optical wave: 0.75 mm\n",
    "        self.z = 3e-2                # distance of propagation(the distance bewteen two layers)\n",
    "        shape=(self.units,self.units)\n",
    "        self.phase = torch.nn.Parameter(torch.clamp(torch.empty(shape).normal_(mean = 0, std = 1), min=0, max=2*torch.pi))\n",
    "\n",
    "\n",
    "    def angular_spectrum_propagator(self, E):\n",
    "        # compute angular spectrum\n",
    "        fft_c = torch.fft.fft2(E)\n",
    "        c = torch.fft.fftshift(fft_c)\n",
    "\n",
    "        fx = np.fft.fftshift(np.fft.fftfreq(self.Nx, d = self.dx))\n",
    "        fxx, fyy = np.meshgrid(fx, fx)\n",
    "        argument = (2 * np.pi)**2 * ((1. / self.lam) ** 2 - fxx ** 2 - fyy ** 2)\n",
    "\n",
    "        #Calculate the propagating and the evanescent (complex) modes\n",
    "        tmp = np.sqrt(np.abs(argument))\n",
    "        kz = torch.tensor(np.where(argument >= 0, tmp, 1j*tmp))\n",
    "\n",
    "        # propagate the angular spectrum a distance z\n",
    "        E = torch.fft.ifft2(torch.fft.ifftshift(c * torch.exp(1j * kz * self.z)))\n",
    "        return E\n",
    "\n",
    "    def forward(self, inputs):\n",
    "        '''Define the computation'''\n",
    "        return self.angular_spectrum_propagator(inputs) "
   ]
  }
 ],
 "metadata": {
  "kernelspec": {
   "display_name": "trading",
   "language": "python",
   "name": "python3"
  },
  "language_info": {
   "codemirror_mode": {
    "name": "ipython",
    "version": 3
   },
   "file_extension": ".py",
   "mimetype": "text/x-python",
   "name": "python",
   "nbconvert_exporter": "python",
   "pygments_lexer": "ipython3",
   "version": "3.10.9"
  },
  "orig_nbformat": 4
 },
 "nbformat": 4,
 "nbformat_minor": 2
}
